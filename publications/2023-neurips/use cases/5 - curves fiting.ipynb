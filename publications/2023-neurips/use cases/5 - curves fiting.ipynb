{
 "cells": [
  {
   "cell_type": "code",
   "execution_count": 2,
   "metadata": {},
   "outputs": [],
   "source": [
    "import numpy as np\n",
    "import pandas as pd\n",
    "from tqdm import tqdm\n",
    "import matplotlib.pyplot as plt\n",
    "import warnings\n",
    "warnings.filterwarnings(\"ignore\", category=RuntimeWarning)\n",
    "from sklearn.metrics import mean_squared_error\n",
    "from lcdb.db import LCDB\n",
    "from lcdb.analysis.util import LearningCurveExtractor, merge_curves\n",
    "\n",
    "import sys\n",
    "sys.path.append(\"../../2022-ecml/analysis\")\n",
    "# from utils_fit import get_anchors_and_scores_mean_curve, convert_table2, remove_rows_with_nan_or_inf, load_from_parts, remove_bad_fits, failed_fits_statistics,  prepare_total_dataframe, plot_data2, plot_trn_data2, plot_prediction2, plot_prediction_smooth2, get_fun_model_id, get_XY2, get_ranks_from_tables, build_rank_table, convert_to_cd_tables, filter_table, prepare_data_for_cd, make_all_cd_plots, print_pretty_rank_table_transpose, plot_metric, get_relevant_max_anchor, empirical_cdf\n",
    "from fit_database import fit_model#, get_multiple_extrapolations_mean_curve_robust, df_compute_metrics_mean_curve"
   ]
  },
  {
   "cell_type": "code",
   "execution_count": 4,
   "metadata": {},
   "outputs": [
    {
     "name": "stderr",
     "output_type": "stream",
     "text": [
      "100%|██████████| 25/25 [04:40<00:00, 11.23s/it]\n"
     ]
    }
   ],
   "source": [
    "workflows = [\n",
    "    \"lcdb.workflow.sklearn.KNNWorkflow\",\n",
    "    \"lcdb.workflow.sklearn.LibLinearWorkflow\",\n",
    "    \"lcdb.workflow.sklearn.LibSVMWorkflow\",\n",
    "    \"lcdb.workflow.sklearn.TreesEnsembleWorkflow\"\n",
    "]\n",
    "\n",
    "openmlid = 6    # 3,6,11,12,14\n",
    "workflow = workflows[1]\n",
    "\n",
    "# retrieve learning curve objects\n",
    "lcdb = LCDB()\n",
    "df = lcdb.query(\n",
    "    openmlids=[openmlid],\n",
    "    workflows=[workflow],\n",
    "    return_generator=False,\n",
    "    processors={\n",
    "        \"learning_curve\": LearningCurveExtractor(\n",
    "            metrics=[\"error_rate\"],\n",
    "            folds=[\"train\", \"val\"]\n",
    "        )\n",
    "    },\n",
    "    show_progress=True\n",
    ")\n",
    "\n",
    "# group by configurations\n",
    "config_cols = [c for c in df.columns if c.startswith(\"p:\")]\n",
    "df = df.groupby(config_cols).agg({\"learning_curve\": merge_curves})"
   ]
  },
  {
   "cell_type": "code",
   "execution_count": 5,
   "metadata": {},
   "outputs": [
    {
     "name": "stdout",
     "output_type": "stream",
     "text": [
      "[16, 23, 32, 45, 64, 91, 128, 181, 256, 362, 512, 724, 1024, 1448, 2048, 2896, 4096, 5793, 8192, 11585, 16000]\n"
     ]
    }
   ],
   "source": [
    "max_schedule = df[\"learning_curve\"].iloc[0].anchors_size\n",
    "print(max_schedule)"
   ]
  },
  {
   "cell_type": "code",
   "execution_count": 6,
   "metadata": {},
   "outputs": [
    {
     "data": {
      "text/plain": [
       "p:C           p:class_weight  p:dual  p:fit_intercept  p:intercept_scaling  p:loss         p:max_iter  p:multiclass  p:penalty  p:pp@cat_encoder  p:pp@decomposition  p:pp@featuregen  p:pp@featureselector  p:pp@scaler  p:tol     p:pp@kernel_pca_kernel  p:pp@kernel_pca_n_components  p:pp@poly_degree  p:pp@selectp_percentile  p:pp@std_with_std\n",
       "1.100000e-12  balanced        False   False            468.603195           squared_hinge  2078        ovo-scikit    l1         ordinal           agglomerator        none             selectp               minmax       0.007298  linear                  0.250000                      2                 39                       True                 <lcdb.analysis.util.LearningCurve object at 0x...\n",
       "                              True    False            1.310196             squared_hinge  149         ovr           l2         ordinal           lda                 none             selectp               std          0.000356  linear                  0.250000                      2                 41                       True                 <lcdb.analysis.util.LearningCurve object at 0x...\n",
       "                                                       18.024744            hinge          1702        ovo-scikit    l2         onehot            ka_nystroem         poly             none                  minmax       1.355153  linear                  0.250000                      2                 25                       True                 <lcdb.analysis.util.LearningCurve object at 0x...\n",
       "1.200000e-12  balanced        False   True             1.427295             squared_hinge  516         ovr           l2         ordinal           ka_rbf              none             selectp               std          0.000928  linear                  0.250000                      2                 71                       False                <lcdb.analysis.util.LearningCurve object at 0x...\n",
       "1.300000e-12  balanced        True    False            109.850371           squared_hinge  449         ovo-scikit    l2         onehot            agglomerator        poly             selectp               std          0.330621  linear                  0.250000                      2                 66                       False                <lcdb.analysis.util.LearningCurve object at 0x...\n",
       "                                                                                                                                                                                                                                                                                                                                                                                ...                        \n",
       "8.601000e+11  balanced        False   False            850.205857           squared_hinge  6337        ovr           l2         ordinal           agglomerator        poly             none                  minmax       0.000665  linear                  0.250000                      2                 25                       True                 <lcdb.analysis.util.LearningCurve object at 0x...\n",
       "8.908652e+11  none            True    False            5.901987             hinge          2265        ovr           l2         ordinal           kernel_pca          poly             selectp               std          0.001683  linear                  0.449209                      2                 98                       False                <lcdb.analysis.util.LearningCurve object at 0x...\n",
       "8.963997e+11  none            True    False            3.482062             squared_hinge  251         ovr           l2         onehot            fastica             none             selectp               minmax       1.033068  linear                  0.250000                      2                 64                       True                 <lcdb.analysis.util.LearningCurve object at 0x...\n",
       "9.594968e+11  balanced        False   True             436.516934           squared_hinge  951         ovr           l2         onehot            agglomerator        none             selectp               std          0.066702  linear                  0.250000                      2                 84                       True                 <lcdb.analysis.util.LearningCurve object at 0x...\n",
       "9.612433e+11  none            False   False            13.015522            squared_hinge  641         ovr           l1         onehot            fastica             none             none                  none         0.000451  linear                  0.250000                      2                 25                       True                 <lcdb.analysis.util.LearningCurve object at 0x...\n",
       "Name: learning_curve, Length: 1231, dtype: object"
      ]
     },
     "execution_count": 6,
     "metadata": {},
     "output_type": "execute_result"
    }
   ],
   "source": [
    "df[\"learning_curve\"].apply(lambda x: x.pad_anchors_size(max_schedule, inplace=True))"
   ]
  },
  {
   "cell_type": "markdown",
   "metadata": {},
   "source": [
    "## Parametric model fitting"
   ]
  },
  {
   "cell_type": "code",
   "execution_count": 7,
   "metadata": {},
   "outputs": [],
   "source": [
    "model_group = ['pow4', 'mmf4', 'wbl4', 'exp4', 'last1']"
   ]
  },
  {
   "cell_type": "code",
   "execution_count": 12,
   "metadata": {},
   "outputs": [],
   "source": [
    "def curves_models_fitting(lc_data, model_names, extrapolate, input_mask, rep=5, verbose=True):\n",
    "    fitting_results = []\n",
    "\n",
    "    # counters for successful fits\n",
    "    model_fit_stats = {model_name: {\"successful_fits\": 0, \"total_fits\": 0} for model_name in model_names}\n",
    "\n",
    "    pbar = tqdm(total=len(lc_data) * len(model_names), smoothing=0, miniters=1)\n",
    "    for lc in lc_data:\n",
    "        schedule = lc.anchors_size  \n",
    "        \n",
    "        # ensure no NaN values in lc\n",
    "        if np.any(~np.isnan(lc.values)):\n",
    "            # compute mean\n",
    "            lc = lc.values[0, 1, :, :, :, :, -1] if lc.is_iteration_wise_curve else lc.values[0, 1]\n",
    "            scores = np.nanmean(lc, axis=(0, 1, 2)).squeeze() \n",
    "            \n",
    "            for model_name in model_names:\n",
    "                model_fit_stats[model_name][\"total_fits\"] += 1  \n",
    "\n",
    "                try:    # fitting\n",
    "                    if extrapolate: \n",
    "                        train_schedule = np.array(schedule)[:-input_mask] # training length\n",
    "                        regress_target = np.array(scores)[:-input_mask]\n",
    "                    else: \n",
    "                        train_schedule = np.array(schedule) \n",
    "                        regress_target = np.array(scores)\n",
    "                    beta, model, fails_init, fails_fit = fit_model(\n",
    "                        train_schedule, regress_target, \n",
    "                        np.array(schedule),  # extrapolation length\n",
    "                        model_name, rep=rep, verbose=verbose)\n",
    "                    \n",
    "                    # predictions \n",
    "                    predictions = model(np.array(schedule))\n",
    "                    #########################\n",
    "                    predictions[predictions>1] = 1\n",
    "                    predictions[predictions<0] = 0\n",
    "                    #########################\n",
    "\n",
    "                    #MSE between predictions and actual scores\n",
    "                    if extrapolate: \n",
    "                        mse = mean_squared_error(np.array(scores)[-input_mask:], predictions[-input_mask:])\n",
    "                    else: # whole curve\n",
    "                        mse = mean_squared_error(np.array(scores), predictions)\n",
    "\n",
    "                    fitting_results.append({\n",
    "                        \"schedule\": schedule,\n",
    "                        \"scores\": scores,\n",
    "                        \"predictions\": predictions,\n",
    "                        \"mse\": mse,      \n",
    "                        \"curve_model\": model_name,\n",
    "                        \"beta\": beta,\n",
    "                        \"fails_init\": fails_init,\n",
    "                        \"fails_fit\": fails_fit\n",
    "                    })\n",
    "\n",
    "                    model_fit_stats[model_name][\"successful_fits\"] += 1\n",
    "\n",
    "                except Exception as e:\n",
    "                    # failed fitting\n",
    "                    if verbose:\n",
    "                        print(f\"Failed to fit model {model_name} for current learning curve. Error: {e}\")\n",
    "                \n",
    "                pbar.update(1)\n",
    "\n",
    "        else:\n",
    "            # skip NaN values learning curve\n",
    "            continue\n",
    "\n",
    "    pbar.close()\n",
    "    return fitting_results, model_fit_stats"
   ]
  },
  {
   "cell_type": "code",
   "execution_count": 13,
   "metadata": {},
   "outputs": [
    {
     "name": "stderr",
     "output_type": "stream",
     "text": [
      "100%|██████████| 6155/6155 [02:59<00:00, 34.32it/s]"
     ]
    },
    {
     "name": "stdout",
     "output_type": "stream",
     "text": [
      "Results:\n",
      "Model: pow4\n",
      "  Average MSE: 0.0005885709280283777\n",
      "  Fitting rate: 100.00% with 1231 successful fits in total 1231\n",
      "Model: mmf4\n",
      "  Average MSE: 0.00043792136506871394\n",
      "  Fitting rate: 100.00% with 1231 successful fits in total 1231\n",
      "Model: wbl4\n",
      "  Average MSE: 0.002226175384670101\n",
      "  Fitting rate: 100.00% with 1231 successful fits in total 1231\n",
      "Model: exp4\n",
      "  Average MSE: 0.004147834537795348\n",
      "  Fitting rate: 100.00% with 1231 successful fits in total 1231\n",
      "Model: last1\n",
      "  Average MSE: 0.0549946583121166\n",
      "  Fitting rate: 100.00% with 1231 successful fits in total 1231\n"
     ]
    },
    {
     "name": "stderr",
     "output_type": "stream",
     "text": [
      "\n"
     ]
    }
   ],
   "source": [
    "fitting_results, fit_stats = curves_models_fitting(df[\"learning_curve\"], model_group, extrapolate=False, input_mask=0)\n",
    "result_df = pd.DataFrame(fitting_results)\n",
    "\n",
    "print(\"Results:\")\n",
    "for model_name in model_group:\n",
    "    model_data = result_df[result_df['curve_model'] == model_name]\n",
    "    if len(model_data) > 0:\n",
    "        avg_mse = model_data[\"mse\"].mean()\n",
    "        success_rate = (fit_stats[model_name][\"successful_fits\"] / fit_stats[model_name][\"total_fits\"]) * 100\n",
    "        print(f\"Model: {model_name}\")\n",
    "        print(f\"  Average MSE: {avg_mse}\")\n",
    "        print(f\"  Fitting rate: {success_rate:.2f}% with {fit_stats[model_name]['successful_fits']} successful fits in total {fit_stats[model_name]['total_fits']}\")\n"
   ]
  },
  {
   "cell_type": "markdown",
   "metadata": {},
   "source": [
    "### Extrapolate 2 anchor i.e. 50%"
   ]
  },
  {
   "cell_type": "code",
   "execution_count": 14,
   "metadata": {},
   "outputs": [
    {
     "name": "stderr",
     "output_type": "stream",
     "text": [
      "  0%|          | 21/6155 [00:00<02:19, 44.12it/s]"
     ]
    },
    {
     "name": "stdout",
     "output_type": "stream",
     "text": [
      "fit failed, nan error? True inf error? False model? mmf4\n"
     ]
    },
    {
     "name": "stderr",
     "output_type": "stream",
     "text": [
      "  1%|          | 36/6155 [00:00<02:24, 42.39it/s]"
     ]
    },
    {
     "name": "stdout",
     "output_type": "stream",
     "text": [
      "fit failed, nan error? True inf error? False model? mmf4\n"
     ]
    },
    {
     "name": "stderr",
     "output_type": "stream",
     "text": [
      "  2%|▏         | 111/6155 [00:02<02:34, 39.20it/s]"
     ]
    },
    {
     "name": "stdout",
     "output_type": "stream",
     "text": [
      "fit failed, nan error? True inf error? False model? mmf4\n"
     ]
    },
    {
     "name": "stderr",
     "output_type": "stream",
     "text": [
      "  5%|▍         | 281/6155 [00:08<02:50, 34.42it/s]"
     ]
    },
    {
     "name": "stdout",
     "output_type": "stream",
     "text": [
      "fit failed, nan error? True inf error? False model? mmf4\n"
     ]
    },
    {
     "name": "stderr",
     "output_type": "stream",
     "text": [
      "  7%|▋         | 452/6155 [00:14<03:05, 30.81it/s]"
     ]
    },
    {
     "name": "stdout",
     "output_type": "stream",
     "text": [
      "fit failed, nan error? True inf error? False model? mmf4\n"
     ]
    },
    {
     "name": "stderr",
     "output_type": "stream",
     "text": [
      "  8%|▊         | 491/6155 [00:16<03:08, 30.06it/s]"
     ]
    },
    {
     "name": "stdout",
     "output_type": "stream",
     "text": [
      "fit failed, nan error? True inf error? False model? mmf4\n"
     ]
    },
    {
     "name": "stderr",
     "output_type": "stream",
     "text": [
      " 11%|█▏        | 696/6155 [00:24<03:10, 28.72it/s]"
     ]
    },
    {
     "name": "stdout",
     "output_type": "stream",
     "text": [
      "fit failed, nan error? True inf error? False model? mmf4\n"
     ]
    },
    {
     "name": "stderr",
     "output_type": "stream",
     "text": [
      " 12%|█▏        | 766/6155 [00:26<03:06, 28.95it/s]"
     ]
    },
    {
     "name": "stdout",
     "output_type": "stream",
     "text": [
      "fit failed, nan error? True inf error? False model? mmf4\n"
     ]
    },
    {
     "name": "stderr",
     "output_type": "stream",
     "text": [
      " 17%|█▋        | 1038/6155 [00:35<02:56, 29.00it/s]"
     ]
    },
    {
     "name": "stdout",
     "output_type": "stream",
     "text": [
      "fit failed, nan error? True inf error? False model? mmf4\n"
     ]
    },
    {
     "name": "stderr",
     "output_type": "stream",
     "text": [
      " 18%|█▊        | 1088/6155 [00:38<02:57, 28.57it/s]"
     ]
    },
    {
     "name": "stdout",
     "output_type": "stream",
     "text": [
      "fit failed, nan error? True inf error? False model? mmf4\n"
     ]
    },
    {
     "name": "stderr",
     "output_type": "stream",
     "text": [
      " 20%|█▉        | 1201/6155 [00:43<02:58, 27.82it/s]"
     ]
    },
    {
     "name": "stdout",
     "output_type": "stream",
     "text": [
      "fit failed, nan error? True inf error? False model? mmf4\n"
     ]
    },
    {
     "name": "stderr",
     "output_type": "stream",
     "text": [
      " 24%|██▍       | 1481/6155 [00:52<02:46, 28.08it/s]"
     ]
    },
    {
     "name": "stdout",
     "output_type": "stream",
     "text": [
      "fit failed, nan error? True inf error? False model? mmf4\n"
     ]
    },
    {
     "name": "stderr",
     "output_type": "stream",
     "text": [
      " 26%|██▌       | 1606/6155 [00:57<02:42, 28.06it/s]"
     ]
    },
    {
     "name": "stdout",
     "output_type": "stream",
     "text": [
      "fit failed, nan error? True inf error? False model? mmf4\n"
     ]
    },
    {
     "name": "stderr",
     "output_type": "stream",
     "text": [
      " 30%|██▉       | 1816/6155 [01:05<02:36, 27.68it/s]"
     ]
    },
    {
     "name": "stdout",
     "output_type": "stream",
     "text": [
      "fit failed, nan error? True inf error? False model? mmf4\n"
     ]
    },
    {
     "name": "stderr",
     "output_type": "stream",
     "text": [
      " 32%|███▏      | 1966/6155 [01:10<02:31, 27.70it/s]"
     ]
    },
    {
     "name": "stdout",
     "output_type": "stream",
     "text": [
      "fit failed, nan error? True inf error? False model? mmf4\n"
     ]
    },
    {
     "name": "stderr",
     "output_type": "stream",
     "text": [
      " 33%|███▎      | 2003/6155 [01:13<02:31, 27.43it/s]"
     ]
    },
    {
     "name": "stdout",
     "output_type": "stream",
     "text": [
      "fit failed, nan error? True inf error? False model? mmf4\n"
     ]
    },
    {
     "name": "stderr",
     "output_type": "stream",
     "text": [
      " 35%|███▌      | 2166/6155 [01:19<02:25, 27.36it/s]"
     ]
    },
    {
     "name": "stdout",
     "output_type": "stream",
     "text": [
      "fit failed, nan error? True inf error? False model? mmf4\n"
     ]
    },
    {
     "name": "stderr",
     "output_type": "stream",
     "text": [
      " 35%|███▌      | 2176/6155 [01:19<02:25, 27.37it/s]"
     ]
    },
    {
     "name": "stdout",
     "output_type": "stream",
     "text": [
      "fit failed, nan error? True inf error? False model? mmf4\n"
     ]
    },
    {
     "name": "stderr",
     "output_type": "stream",
     "text": [
      " 36%|███▌      | 2222/6155 [01:20<02:23, 27.49it/s]"
     ]
    },
    {
     "name": "stdout",
     "output_type": "stream",
     "text": [
      "fit failed, nan error? True inf error? False model? mmf4\n"
     ]
    },
    {
     "name": "stderr",
     "output_type": "stream",
     "text": [
      " 38%|███▊      | 2322/6155 [01:24<02:18, 27.60it/s]"
     ]
    },
    {
     "name": "stdout",
     "output_type": "stream",
     "text": [
      "fit failed, nan error? True inf error? False model? mmf4\n"
     ]
    },
    {
     "name": "stderr",
     "output_type": "stream",
     "text": [
      " 43%|████▎     | 2616/6155 [01:31<02:04, 28.46it/s]"
     ]
    },
    {
     "name": "stdout",
     "output_type": "stream",
     "text": [
      "fit failed, nan error? True inf error? False model? mmf4\n"
     ]
    },
    {
     "name": "stderr",
     "output_type": "stream",
     "text": [
      " 44%|████▍     | 2701/6155 [01:33<01:59, 28.79it/s]"
     ]
    },
    {
     "name": "stdout",
     "output_type": "stream",
     "text": [
      "fit failed, nan error? True inf error? False model? mmf4\n"
     ]
    },
    {
     "name": "stderr",
     "output_type": "stream",
     "text": [
      " 48%|████▊     | 2936/6155 [01:39<01:49, 29.42it/s]"
     ]
    },
    {
     "name": "stdout",
     "output_type": "stream",
     "text": [
      "fit failed, nan error? True inf error? False model? mmf4\n"
     ]
    },
    {
     "name": "stderr",
     "output_type": "stream",
     "text": [
      " 48%|████▊     | 2957/6155 [01:40<01:48, 29.48it/s]"
     ]
    },
    {
     "name": "stdout",
     "output_type": "stream",
     "text": [
      "fit failed, nan error? True inf error? False model? mmf4\n"
     ]
    },
    {
     "name": "stderr",
     "output_type": "stream",
     "text": [
      " 49%|████▉     | 3041/6155 [01:42<01:44, 29.71it/s]"
     ]
    },
    {
     "name": "stdout",
     "output_type": "stream",
     "text": [
      "fit failed, nan error? True inf error? False model? mmf4\n"
     ]
    },
    {
     "name": "stderr",
     "output_type": "stream",
     "text": [
      " 50%|████▉     | 3067/6155 [01:43<01:43, 29.77it/s]"
     ]
    },
    {
     "name": "stdout",
     "output_type": "stream",
     "text": [
      "fit failed, nan error? True inf error? False model? mmf4\n"
     ]
    },
    {
     "name": "stderr",
     "output_type": "stream",
     "text": [
      " 50%|█████     | 3096/6155 [01:43<01:42, 29.87it/s]"
     ]
    },
    {
     "name": "stdout",
     "output_type": "stream",
     "text": [
      "fit failed, nan error? True inf error? False model? mmf4\n"
     ]
    },
    {
     "name": "stderr",
     "output_type": "stream",
     "text": [
      " 51%|█████     | 3131/6155 [01:44<01:41, 29.94it/s]"
     ]
    },
    {
     "name": "stdout",
     "output_type": "stream",
     "text": [
      "fit failed, nan error? True inf error? False model? mmf4\n"
     ]
    },
    {
     "name": "stderr",
     "output_type": "stream",
     "text": [
      " 51%|█████     | 3141/6155 [01:44<01:40, 29.96it/s]"
     ]
    },
    {
     "name": "stdout",
     "output_type": "stream",
     "text": [
      "fit failed, nan error? True inf error? False model? mmf4\n"
     ]
    },
    {
     "name": "stderr",
     "output_type": "stream",
     "text": [
      " 52%|█████▏    | 3227/6155 [01:47<01:37, 30.10it/s]"
     ]
    },
    {
     "name": "stdout",
     "output_type": "stream",
     "text": [
      "fit failed, nan error? True inf error? False model? mmf4\n"
     ]
    },
    {
     "name": "stderr",
     "output_type": "stream",
     "text": [
      " 53%|█████▎    | 3256/6155 [01:48<01:36, 30.10it/s]"
     ]
    },
    {
     "name": "stdout",
     "output_type": "stream",
     "text": [
      "fit failed, nan error? True inf error? False model? mmf4\n"
     ]
    },
    {
     "name": "stderr",
     "output_type": "stream",
     "text": [
      " 53%|█████▎    | 3271/6155 [01:48<01:35, 30.12it/s]"
     ]
    },
    {
     "name": "stdout",
     "output_type": "stream",
     "text": [
      "fit failed, nan error? True inf error? False model? mmf4\n"
     ]
    },
    {
     "name": "stderr",
     "output_type": "stream",
     "text": [
      " 55%|█████▌    | 3386/6155 [01:51<01:31, 30.32it/s]"
     ]
    },
    {
     "name": "stdout",
     "output_type": "stream",
     "text": [
      "fit failed, nan error? True inf error? False model? mmf4\n"
     ]
    },
    {
     "name": "stderr",
     "output_type": "stream",
     "text": [
      " 57%|█████▋    | 3501/6155 [01:55<01:27, 30.44it/s]"
     ]
    },
    {
     "name": "stdout",
     "output_type": "stream",
     "text": [
      "fit failed, nan error? True inf error? False model? mmf4\n"
     ]
    },
    {
     "name": "stderr",
     "output_type": "stream",
     "text": [
      " 59%|█████▉    | 3636/6155 [01:58<01:22, 30.66it/s]"
     ]
    },
    {
     "name": "stdout",
     "output_type": "stream",
     "text": [
      "fit failed, nan error? True inf error? False model? mmf4\n"
     ]
    },
    {
     "name": "stderr",
     "output_type": "stream",
     "text": [
      " 60%|██████    | 3716/6155 [02:00<01:19, 30.77it/s]"
     ]
    },
    {
     "name": "stdout",
     "output_type": "stream",
     "text": [
      "fit failed, nan error? True inf error? False model? mmf4\n"
     ]
    },
    {
     "name": "stderr",
     "output_type": "stream",
     "text": [
      " 61%|██████▏   | 3771/6155 [02:02<01:17, 30.85it/s]"
     ]
    },
    {
     "name": "stdout",
     "output_type": "stream",
     "text": [
      "fit failed, nan error? True inf error? False model? mmf4\n"
     ]
    },
    {
     "name": "stderr",
     "output_type": "stream",
     "text": [
      " 62%|██████▏   | 3801/6155 [02:02<01:16, 30.91it/s]"
     ]
    },
    {
     "name": "stdout",
     "output_type": "stream",
     "text": [
      "fit failed, nan error? True inf error? False model? mmf4\n"
     ]
    },
    {
     "name": "stderr",
     "output_type": "stream",
     "text": [
      " 63%|██████▎   | 3876/6155 [02:04<01:13, 31.03it/s]"
     ]
    },
    {
     "name": "stdout",
     "output_type": "stream",
     "text": [
      "fit failed, nan error? True inf error? False model? mmf4\n"
     ]
    },
    {
     "name": "stderr",
     "output_type": "stream",
     "text": [
      " 63%|██████▎   | 3891/6155 [02:05<01:12, 31.05it/s]"
     ]
    },
    {
     "name": "stdout",
     "output_type": "stream",
     "text": [
      "fit failed, nan error? True inf error? False model? mmf4\n"
     ]
    },
    {
     "name": "stderr",
     "output_type": "stream",
     "text": [
      " 67%|██████▋   | 4132/6155 [02:11<01:04, 31.40it/s]"
     ]
    },
    {
     "name": "stdout",
     "output_type": "stream",
     "text": [
      "fit failed, nan error? True inf error? False model? mmf4\n"
     ]
    },
    {
     "name": "stderr",
     "output_type": "stream",
     "text": [
      " 70%|██████▉   | 4286/6155 [02:16<00:59, 31.38it/s]"
     ]
    },
    {
     "name": "stdout",
     "output_type": "stream",
     "text": [
      "fit failed, nan error? True inf error? False model? mmf4\n"
     ]
    },
    {
     "name": "stderr",
     "output_type": "stream",
     "text": [
      " 71%|███████   | 4381/6155 [02:19<00:56, 31.31it/s]"
     ]
    },
    {
     "name": "stdout",
     "output_type": "stream",
     "text": [
      "fit failed, nan error? True inf error? False model? mmf4\n"
     ]
    },
    {
     "name": "stderr",
     "output_type": "stream",
     "text": [
      " 74%|███████▎  | 4526/6155 [02:23<00:51, 31.44it/s]"
     ]
    },
    {
     "name": "stdout",
     "output_type": "stream",
     "text": [
      "fit failed, nan error? True inf error? False model? mmf4\n"
     ]
    },
    {
     "name": "stderr",
     "output_type": "stream",
     "text": [
      " 78%|███████▊  | 4826/6155 [02:32<00:41, 31.74it/s]"
     ]
    },
    {
     "name": "stdout",
     "output_type": "stream",
     "text": [
      "fit failed, nan error? True inf error? False model? mmf4\n"
     ]
    },
    {
     "name": "stderr",
     "output_type": "stream",
     "text": [
      " 83%|████████▎ | 5086/6155 [02:39<00:33, 31.94it/s]"
     ]
    },
    {
     "name": "stdout",
     "output_type": "stream",
     "text": [
      "fit failed, nan error? True inf error? False model? mmf4\n"
     ]
    },
    {
     "name": "stderr",
     "output_type": "stream",
     "text": [
      " 84%|████████▍ | 5171/6155 [02:41<00:30, 31.99it/s]"
     ]
    },
    {
     "name": "stdout",
     "output_type": "stream",
     "text": [
      "fit failed, nan error? True inf error? False model? mmf4\n"
     ]
    },
    {
     "name": "stderr",
     "output_type": "stream",
     "text": [
      " 84%|████████▍ | 5186/6155 [02:42<00:30, 32.01it/s]"
     ]
    },
    {
     "name": "stdout",
     "output_type": "stream",
     "text": [
      "fit failed, nan error? True inf error? False model? mmf4\n"
     ]
    },
    {
     "name": "stderr",
     "output_type": "stream",
     "text": [
      " 85%|████████▌ | 5261/6155 [02:44<00:27, 32.05it/s]"
     ]
    },
    {
     "name": "stdout",
     "output_type": "stream",
     "text": [
      "fit failed, nan error? True inf error? False model? mmf4\n"
     ]
    },
    {
     "name": "stderr",
     "output_type": "stream",
     "text": [
      " 86%|████████▌ | 5301/6155 [02:45<00:26, 32.08it/s]"
     ]
    },
    {
     "name": "stdout",
     "output_type": "stream",
     "text": [
      "fit failed, nan error? True inf error? False model? mmf4\n"
     ]
    },
    {
     "name": "stderr",
     "output_type": "stream",
     "text": [
      " 90%|█████████ | 5546/6155 [02:52<00:18, 32.23it/s]"
     ]
    },
    {
     "name": "stdout",
     "output_type": "stream",
     "text": [
      "fit failed, nan error? True inf error? False model? mmf4\n",
      "fit failed, nan error? True inf error? False model? mmf4\n"
     ]
    },
    {
     "name": "stderr",
     "output_type": "stream",
     "text": [
      " 92%|█████████▏| 5661/6155 [02:55<00:15, 32.33it/s]"
     ]
    },
    {
     "name": "stdout",
     "output_type": "stream",
     "text": [
      "fit failed, nan error? True inf error? False model? mmf4\n"
     ]
    },
    {
     "name": "stderr",
     "output_type": "stream",
     "text": [
      " 92%|█████████▏| 5691/6155 [02:56<00:14, 32.31it/s]"
     ]
    },
    {
     "name": "stdout",
     "output_type": "stream",
     "text": [
      "fit failed, nan error? True inf error? False model? mmf4\n"
     ]
    },
    {
     "name": "stderr",
     "output_type": "stream",
     "text": [
      " 94%|█████████▎| 5766/6155 [02:58<00:12, 32.34it/s]"
     ]
    },
    {
     "name": "stdout",
     "output_type": "stream",
     "text": [
      "fit failed, nan error? True inf error? False model? mmf4\n"
     ]
    },
    {
     "name": "stderr",
     "output_type": "stream",
     "text": [
      " 95%|█████████▍| 5846/6155 [03:00<00:09, 32.40it/s]"
     ]
    },
    {
     "name": "stdout",
     "output_type": "stream",
     "text": [
      "fit failed, nan error? True inf error? False model? mmf4\n"
     ]
    },
    {
     "name": "stderr",
     "output_type": "stream",
     "text": [
      " 97%|█████████▋| 5966/6155 [03:03<00:05, 32.48it/s]"
     ]
    },
    {
     "name": "stdout",
     "output_type": "stream",
     "text": [
      "fit failed, nan error? True inf error? False model? mmf4\n"
     ]
    },
    {
     "name": "stderr",
     "output_type": "stream",
     "text": [
      "100%|█████████▉| 6136/6155 [03:09<00:00, 32.46it/s]"
     ]
    },
    {
     "name": "stdout",
     "output_type": "stream",
     "text": [
      "fit failed, nan error? True inf error? False model? mmf4\n"
     ]
    },
    {
     "name": "stderr",
     "output_type": "stream",
     "text": [
      "100%|█████████▉| 6149/6155 [03:09<00:00, 32.44it/s]"
     ]
    },
    {
     "name": "stdout",
     "output_type": "stream",
     "text": [
      "fit failed, nan error? True inf error? False model? mmf4\n"
     ]
    },
    {
     "name": "stderr",
     "output_type": "stream",
     "text": [
      "100%|██████████| 6155/6155 [03:09<00:00, 32.45it/s]"
     ]
    },
    {
     "name": "stdout",
     "output_type": "stream",
     "text": [
      "Results:\n",
      "Model: pow4\n",
      "  Average MSE: 0.002370996065291243\n",
      "  Fitting rate: 100.00% with 1231 successful fits in total 1231\n",
      "Model: mmf4\n",
      "  Average MSE: 0.002368372401813456\n",
      "  Fitting rate: 100.00% with 1231 successful fits in total 1231\n",
      "Model: wbl4\n",
      "  Average MSE: 0.006040579360941095\n",
      "  Fitting rate: 100.00% with 1231 successful fits in total 1231\n",
      "Model: exp4\n",
      "  Average MSE: 0.010133039525823787\n",
      "  Fitting rate: 100.00% with 1231 successful fits in total 1231\n",
      "Model: last1\n",
      "  Average MSE: 0.0015124974263626618\n",
      "  Fitting rate: 100.00% with 1231 successful fits in total 1231\n"
     ]
    },
    {
     "name": "stderr",
     "output_type": "stream",
     "text": [
      "\n"
     ]
    }
   ],
   "source": [
    "fitting_results, fit_stats = curves_models_fitting(df[\"learning_curve\"], model_group, extrapolate=True, input_mask=2)\n",
    "result_df = pd.DataFrame(fitting_results)\n",
    "\n",
    "print(\"Results:\")\n",
    "for model_name in model_group:\n",
    "    model_data = result_df[result_df['curve_model'] == model_name]\n",
    "    if len(model_data) > 0:\n",
    "        avg_mse = model_data[\"mse\"].mean()\n",
    "        success_rate = (fit_stats[model_name][\"successful_fits\"] / fit_stats[model_name][\"total_fits\"]) * 100\n",
    "        print(f\"Model: {model_name}\")\n",
    "        print(f\"  Average MSE: {avg_mse}\")\n",
    "        print(f\"  Fitting rate: {success_rate:.2f}% with {fit_stats[model_name]['successful_fits']} successful fits in total {fit_stats[model_name]['total_fits']}\")\n"
   ]
  },
  {
   "cell_type": "markdown",
   "metadata": {},
   "source": [
    "### Extrapolate 4 anchor i.e. 25%"
   ]
  },
  {
   "cell_type": "code",
   "execution_count": 15,
   "metadata": {},
   "outputs": [
    {
     "name": "stderr",
     "output_type": "stream",
     "text": [
      "  2%|▏         | 111/6155 [00:04<03:54, 25.79it/s]"
     ]
    },
    {
     "name": "stdout",
     "output_type": "stream",
     "text": [
      "fit failed, nan error? True inf error? False model? mmf4\n"
     ]
    },
    {
     "name": "stderr",
     "output_type": "stream",
     "text": [
      "  5%|▍         | 307/6155 [00:09<02:56, 33.15it/s]"
     ]
    },
    {
     "name": "stdout",
     "output_type": "stream",
     "text": [
      "fit failed, nan error? True inf error? False model? mmf4\n"
     ]
    },
    {
     "name": "stderr",
     "output_type": "stream",
     "text": [
      "  6%|▋         | 391/6155 [00:11<02:53, 33.16it/s]"
     ]
    },
    {
     "name": "stdout",
     "output_type": "stream",
     "text": [
      "fit failed, nan error? True inf error? False model? mmf4\n"
     ]
    },
    {
     "name": "stderr",
     "output_type": "stream",
     "text": [
      "  6%|▋         | 394/6155 [00:11<02:54, 33.08it/s]"
     ]
    },
    {
     "name": "stdout",
     "output_type": "stream",
     "text": [
      "fit failed, nan error? True inf error? False model? mmf4\n"
     ]
    },
    {
     "name": "stderr",
     "output_type": "stream",
     "text": [
      " 10%|█         | 641/6155 [00:20<02:59, 30.80it/s]"
     ]
    },
    {
     "name": "stdout",
     "output_type": "stream",
     "text": [
      "fit failed, nan error? True inf error? False model? mmf4\n"
     ]
    },
    {
     "name": "stderr",
     "output_type": "stream",
     "text": [
      " 11%|█▏        | 706/6155 [00:23<02:59, 30.43it/s]"
     ]
    },
    {
     "name": "stdout",
     "output_type": "stream",
     "text": [
      "fit failed, nan error? True inf error? False model? mmf4\n"
     ]
    },
    {
     "name": "stderr",
     "output_type": "stream",
     "text": [
      " 12%|█▏        | 762/6155 [00:25<02:57, 30.42it/s]"
     ]
    },
    {
     "name": "stdout",
     "output_type": "stream",
     "text": [
      "fit failed, nan error? True inf error? False model? mmf4\n"
     ]
    },
    {
     "name": "stderr",
     "output_type": "stream",
     "text": [
      " 13%|█▎        | 804/6155 [00:26<02:54, 30.73it/s]"
     ]
    },
    {
     "name": "stdout",
     "output_type": "stream",
     "text": [
      "fit failed, nan error? True inf error? False model? mmf4\n"
     ]
    },
    {
     "name": "stderr",
     "output_type": "stream",
     "text": [
      " 14%|█▍        | 847/6155 [00:27<02:51, 30.92it/s]"
     ]
    },
    {
     "name": "stdout",
     "output_type": "stream",
     "text": [
      "fit failed, nan error? True inf error? False model? mmf4\n"
     ]
    },
    {
     "name": "stderr",
     "output_type": "stream",
     "text": [
      " 15%|█▍        | 912/6155 [00:29<02:48, 31.04it/s]"
     ]
    },
    {
     "name": "stdout",
     "output_type": "stream",
     "text": [
      "fit failed, nan error? True inf error? False model? mmf4\n"
     ]
    },
    {
     "name": "stderr",
     "output_type": "stream",
     "text": [
      " 15%|█▌        | 953/6155 [00:31<02:49, 30.62it/s]"
     ]
    },
    {
     "name": "stdout",
     "output_type": "stream",
     "text": [
      "fit failed, nan error? True inf error? False model? mmf4\n"
     ]
    },
    {
     "name": "stderr",
     "output_type": "stream",
     "text": [
      " 18%|█▊        | 1108/6155 [00:35<02:43, 30.80it/s]"
     ]
    },
    {
     "name": "stdout",
     "output_type": "stream",
     "text": [
      "fit failed, nan error? True inf error? False model? mmf4\n"
     ]
    },
    {
     "name": "stderr",
     "output_type": "stream",
     "text": [
      " 19%|█▉        | 1158/6155 [00:37<02:42, 30.72it/s]"
     ]
    },
    {
     "name": "stdout",
     "output_type": "stream",
     "text": [
      "fit failed, nan error? True inf error? False model? mmf4\n"
     ]
    },
    {
     "name": "stderr",
     "output_type": "stream",
     "text": [
      " 20%|█▉        | 1226/6155 [00:40<02:41, 30.47it/s]"
     ]
    },
    {
     "name": "stdout",
     "output_type": "stream",
     "text": [
      "fit failed, nan error? True inf error? False model? mmf4\n"
     ]
    },
    {
     "name": "stderr",
     "output_type": "stream",
     "text": [
      " 20%|██        | 1251/6155 [00:41<02:43, 30.08it/s]"
     ]
    },
    {
     "name": "stdout",
     "output_type": "stream",
     "text": [
      "fit failed, nan error? False inf error? True model? exp4\n"
     ]
    },
    {
     "name": "stderr",
     "output_type": "stream",
     "text": [
      " 20%|██        | 1261/6155 [00:42<02:43, 30.00it/s]"
     ]
    },
    {
     "name": "stdout",
     "output_type": "stream",
     "text": [
      "fit failed, nan error? True inf error? False model? mmf4\n"
     ]
    },
    {
     "name": "stderr",
     "output_type": "stream",
     "text": [
      " 21%|██        | 1281/6155 [00:42<02:43, 29.88it/s]"
     ]
    },
    {
     "name": "stdout",
     "output_type": "stream",
     "text": [
      "fit failed, nan error? True inf error? False model? mmf4\n",
      "fit failed, nan error? True inf error? False model? mmf4\n"
     ]
    },
    {
     "name": "stderr",
     "output_type": "stream",
     "text": [
      " 21%|██        | 1301/6155 [00:43<02:42, 29.88it/s]"
     ]
    },
    {
     "name": "stdout",
     "output_type": "stream",
     "text": [
      "fit failed, nan error? True inf error? False model? mmf4\n"
     ]
    },
    {
     "name": "stderr",
     "output_type": "stream",
     "text": [
      " 23%|██▎       | 1409/6155 [00:46<02:34, 30.62it/s]"
     ]
    },
    {
     "name": "stdout",
     "output_type": "stream",
     "text": [
      "fit failed, nan error? True inf error? False model? mmf4\n"
     ]
    },
    {
     "name": "stderr",
     "output_type": "stream",
     "text": [
      " 26%|██▌       | 1574/6155 [00:51<02:29, 30.62it/s]"
     ]
    },
    {
     "name": "stdout",
     "output_type": "stream",
     "text": [
      "fit failed, nan error? True inf error? False model? mmf4\n"
     ]
    },
    {
     "name": "stderr",
     "output_type": "stream",
     "text": [
      " 26%|██▌       | 1591/6155 [00:51<02:28, 30.64it/s]"
     ]
    },
    {
     "name": "stdout",
     "output_type": "stream",
     "text": [
      "fit failed, nan error? True inf error? False model? mmf4\n"
     ]
    },
    {
     "name": "stderr",
     "output_type": "stream",
     "text": [
      " 27%|██▋       | 1671/6155 [00:55<02:27, 30.32it/s]"
     ]
    },
    {
     "name": "stdout",
     "output_type": "stream",
     "text": [
      "fit failed, nan error? True inf error? False model? mmf4\n"
     ]
    },
    {
     "name": "stderr",
     "output_type": "stream",
     "text": [
      " 27%|██▋       | 1691/6155 [00:56<02:28, 30.13it/s]"
     ]
    },
    {
     "name": "stdout",
     "output_type": "stream",
     "text": [
      "fit failed, nan error? True inf error? False model? mmf4\n"
     ]
    },
    {
     "name": "stderr",
     "output_type": "stream",
     "text": [
      " 28%|██▊       | 1731/6155 [00:57<02:27, 30.09it/s]"
     ]
    },
    {
     "name": "stdout",
     "output_type": "stream",
     "text": [
      "fit failed, nan error? True inf error? False model? mmf4\n"
     ]
    },
    {
     "name": "stderr",
     "output_type": "stream",
     "text": [
      " 30%|██▉       | 1836/6155 [01:01<02:23, 30.09it/s]"
     ]
    },
    {
     "name": "stdout",
     "output_type": "stream",
     "text": [
      "fit failed, nan error? True inf error? False model? mmf4\n"
     ]
    },
    {
     "name": "stderr",
     "output_type": "stream",
     "text": [
      " 30%|███       | 1862/6155 [01:02<02:23, 29.98it/s]"
     ]
    },
    {
     "name": "stdout",
     "output_type": "stream",
     "text": [
      "fit failed, nan error? True inf error? False model? mmf4\n"
     ]
    },
    {
     "name": "stderr",
     "output_type": "stream",
     "text": [
      " 31%|███       | 1896/6155 [01:03<02:22, 29.91it/s]"
     ]
    },
    {
     "name": "stdout",
     "output_type": "stream",
     "text": [
      "fit failed, nan error? True inf error? False model? mmf4\n"
     ]
    },
    {
     "name": "stderr",
     "output_type": "stream",
     "text": [
      " 31%|███▏      | 1928/6155 [01:04<02:21, 29.85it/s]"
     ]
    },
    {
     "name": "stdout",
     "output_type": "stream",
     "text": [
      "fit failed, nan error? True inf error? False model? mmf4\n"
     ]
    },
    {
     "name": "stderr",
     "output_type": "stream",
     "text": [
      " 35%|███▍      | 2141/6155 [01:13<02:18, 29.06it/s]"
     ]
    },
    {
     "name": "stdout",
     "output_type": "stream",
     "text": [
      "fit failed, nan error? True inf error? False model? mmf4\n"
     ]
    },
    {
     "name": "stderr",
     "output_type": "stream",
     "text": [
      " 36%|███▋      | 2236/6155 [01:17<02:15, 28.93it/s]"
     ]
    },
    {
     "name": "stdout",
     "output_type": "stream",
     "text": [
      "fit failed, nan error? True inf error? False model? mmf4\n"
     ]
    },
    {
     "name": "stderr",
     "output_type": "stream",
     "text": [
      " 37%|███▋      | 2256/6155 [01:17<02:14, 28.93it/s]"
     ]
    },
    {
     "name": "stdout",
     "output_type": "stream",
     "text": [
      "fit failed, nan error? True inf error? False model? mmf4\n"
     ]
    },
    {
     "name": "stderr",
     "output_type": "stream",
     "text": [
      " 37%|███▋      | 2297/6155 [01:19<02:14, 28.78it/s]"
     ]
    },
    {
     "name": "stdout",
     "output_type": "stream",
     "text": [
      "fit failed, nan error? True inf error? False model? mmf4\n"
     ]
    },
    {
     "name": "stderr",
     "output_type": "stream",
     "text": [
      " 38%|███▊      | 2321/6155 [01:20<02:13, 28.73it/s]"
     ]
    },
    {
     "name": "stdout",
     "output_type": "stream",
     "text": [
      "fit failed, nan error? True inf error? False model? mmf4\n"
     ]
    },
    {
     "name": "stderr",
     "output_type": "stream",
     "text": [
      " 39%|███▉      | 2386/6155 [01:23<02:11, 28.65it/s]"
     ]
    },
    {
     "name": "stdout",
     "output_type": "stream",
     "text": [
      "fit failed, nan error? True inf error? False model? mmf4\n"
     ]
    },
    {
     "name": "stderr",
     "output_type": "stream",
     "text": [
      " 40%|███▉      | 2451/6155 [01:25<02:08, 28.81it/s]"
     ]
    },
    {
     "name": "stdout",
     "output_type": "stream",
     "text": [
      "fit failed, nan error? True inf error? False model? mmf4\n"
     ]
    },
    {
     "name": "stderr",
     "output_type": "stream",
     "text": [
      " 40%|████      | 2466/6155 [01:25<02:08, 28.79it/s]"
     ]
    },
    {
     "name": "stdout",
     "output_type": "stream",
     "text": [
      "fit failed, nan error? True inf error? False model? mmf4\n",
      "fit failed, nan error? True inf error? False model? mmf4\n"
     ]
    },
    {
     "name": "stderr",
     "output_type": "stream",
     "text": [
      " 40%|████      | 2474/6155 [01:26<02:08, 28.75it/s]"
     ]
    },
    {
     "name": "stdout",
     "output_type": "stream",
     "text": [
      "fit failed, nan error? True inf error? False model? mmf4\n",
      "fit failed, nan error? True inf error? False model? mmf4\n"
     ]
    },
    {
     "name": "stderr",
     "output_type": "stream",
     "text": [
      " 42%|████▏     | 2566/6155 [01:29<02:04, 28.80it/s]"
     ]
    },
    {
     "name": "stdout",
     "output_type": "stream",
     "text": [
      "fit failed, nan error? True inf error? False model? mmf4\n"
     ]
    },
    {
     "name": "stderr",
     "output_type": "stream",
     "text": [
      " 42%|████▏     | 2584/6155 [01:29<02:03, 28.84it/s]"
     ]
    },
    {
     "name": "stdout",
     "output_type": "stream",
     "text": [
      "fit failed, nan error? True inf error? False model? mmf4\n",
      "fit failed, nan error? True inf error? False model? mmf4\n"
     ]
    },
    {
     "name": "stderr",
     "output_type": "stream",
     "text": [
      " 43%|████▎     | 2628/6155 [01:30<02:01, 28.91it/s]"
     ]
    },
    {
     "name": "stdout",
     "output_type": "stream",
     "text": [
      "fit failed, nan error? True inf error? False model? mmf4\n"
     ]
    },
    {
     "name": "stderr",
     "output_type": "stream",
     "text": [
      " 44%|████▎     | 2692/6155 [01:32<01:58, 29.16it/s]"
     ]
    },
    {
     "name": "stdout",
     "output_type": "stream",
     "text": [
      "fit failed, nan error? True inf error? False model? mmf4\n",
      "fit failed, nan error? True inf error? False model? mmf4\n"
     ]
    },
    {
     "name": "stderr",
     "output_type": "stream",
     "text": [
      " 45%|████▍     | 2752/6155 [01:33<01:55, 29.35it/s]"
     ]
    },
    {
     "name": "stdout",
     "output_type": "stream",
     "text": [
      "fit failed, nan error? True inf error? False model? mmf4\n",
      "fit failed, nan error? True inf error? False model? mmf4\n"
     ]
    },
    {
     "name": "stderr",
     "output_type": "stream",
     "text": [
      " 45%|████▍     | 2766/6155 [01:34<01:55, 29.39it/s]"
     ]
    },
    {
     "name": "stdout",
     "output_type": "stream",
     "text": [
      "fit failed, nan error? True inf error? False model? mmf4\n"
     ]
    },
    {
     "name": "stderr",
     "output_type": "stream",
     "text": [
      " 45%|████▌     | 2791/6155 [01:34<01:54, 29.42it/s]"
     ]
    },
    {
     "name": "stdout",
     "output_type": "stream",
     "text": [
      "fit failed, nan error? True inf error? False model? mmf4\n"
     ]
    },
    {
     "name": "stderr",
     "output_type": "stream",
     "text": [
      " 46%|████▌     | 2806/6155 [01:35<01:53, 29.43it/s]"
     ]
    },
    {
     "name": "stdout",
     "output_type": "stream",
     "text": [
      "fit failed, nan error? True inf error? False model? mmf4\n",
      "fit failed, nan error? True inf error? False model? mmf4\n"
     ]
    },
    {
     "name": "stderr",
     "output_type": "stream",
     "text": [
      " 46%|████▌     | 2846/6155 [01:36<01:51, 29.58it/s]"
     ]
    },
    {
     "name": "stdout",
     "output_type": "stream",
     "text": [
      "fit failed, nan error? True inf error? False model? mmf4\n"
     ]
    },
    {
     "name": "stderr",
     "output_type": "stream",
     "text": [
      " 49%|████▉     | 3006/6155 [01:40<01:45, 29.95it/s]"
     ]
    },
    {
     "name": "stdout",
     "output_type": "stream",
     "text": [
      "fit failed, nan error? True inf error? False model? mmf4\n"
     ]
    },
    {
     "name": "stderr",
     "output_type": "stream",
     "text": [
      " 49%|████▉     | 3021/6155 [01:40<01:44, 30.00it/s]"
     ]
    },
    {
     "name": "stdout",
     "output_type": "stream",
     "text": [
      "fit failed, nan error? True inf error? False model? mmf4\n"
     ]
    },
    {
     "name": "stderr",
     "output_type": "stream",
     "text": [
      " 50%|█████     | 3091/6155 [01:42<01:41, 30.12it/s]"
     ]
    },
    {
     "name": "stdout",
     "output_type": "stream",
     "text": [
      "fit failed, nan error? True inf error? False model? mmf4\n"
     ]
    },
    {
     "name": "stderr",
     "output_type": "stream",
     "text": [
      " 51%|█████     | 3146/6155 [01:44<01:39, 30.23it/s]"
     ]
    },
    {
     "name": "stdout",
     "output_type": "stream",
     "text": [
      "fit failed, nan error? True inf error? False model? mmf4\n"
     ]
    },
    {
     "name": "stderr",
     "output_type": "stream",
     "text": [
      " 51%|█████▏    | 3161/6155 [01:44<01:38, 30.26it/s]"
     ]
    },
    {
     "name": "stdout",
     "output_type": "stream",
     "text": [
      "fit failed, nan error? True inf error? False model? mmf4\n"
     ]
    },
    {
     "name": "stderr",
     "output_type": "stream",
     "text": [
      " 52%|█████▏    | 3171/6155 [01:44<01:38, 30.27it/s]"
     ]
    },
    {
     "name": "stdout",
     "output_type": "stream",
     "text": [
      "fit failed, nan error? True inf error? False model? mmf4\n"
     ]
    },
    {
     "name": "stderr",
     "output_type": "stream",
     "text": [
      " 52%|█████▏    | 3181/6155 [01:45<01:38, 30.25it/s]"
     ]
    },
    {
     "name": "stdout",
     "output_type": "stream",
     "text": [
      "fit failed, nan error? True inf error? False model? mmf4\n",
      "fit failed, nan error? True inf error? False model? mmf4\n"
     ]
    },
    {
     "name": "stderr",
     "output_type": "stream",
     "text": [
      " 54%|█████▍    | 3341/6155 [01:49<01:32, 30.43it/s]"
     ]
    },
    {
     "name": "stdout",
     "output_type": "stream",
     "text": [
      "fit failed, nan error? True inf error? False model? mmf4\n",
      "fit failed, nan error? True inf error? False model? mmf4\n"
     ]
    },
    {
     "name": "stderr",
     "output_type": "stream",
     "text": [
      " 55%|█████▍    | 3356/6155 [01:50<01:31, 30.45it/s]"
     ]
    },
    {
     "name": "stdout",
     "output_type": "stream",
     "text": [
      "fit failed, nan error? True inf error? False model? mmf4\n"
     ]
    },
    {
     "name": "stderr",
     "output_type": "stream",
     "text": [
      " 56%|█████▌    | 3417/6155 [01:51<01:29, 30.51it/s]"
     ]
    },
    {
     "name": "stdout",
     "output_type": "stream",
     "text": [
      "fit failed, nan error? True inf error? False model? mmf4\n"
     ]
    },
    {
     "name": "stderr",
     "output_type": "stream",
     "text": [
      " 56%|█████▌    | 3426/6155 [01:52<01:29, 30.50it/s]"
     ]
    },
    {
     "name": "stdout",
     "output_type": "stream",
     "text": [
      "fit failed, nan error? True inf error? False model? mmf4\n",
      "fit failed, nan error? True inf error? False model? mmf4\n"
     ]
    },
    {
     "name": "stderr",
     "output_type": "stream",
     "text": [
      " 57%|█████▋    | 3506/6155 [01:54<01:26, 30.49it/s]"
     ]
    },
    {
     "name": "stdout",
     "output_type": "stream",
     "text": [
      "fit failed, nan error? True inf error? False model? mmf4\n"
     ]
    },
    {
     "name": "stderr",
     "output_type": "stream",
     "text": [
      " 58%|█████▊    | 3551/6155 [01:56<01:25, 30.48it/s]"
     ]
    },
    {
     "name": "stdout",
     "output_type": "stream",
     "text": [
      "fit failed, nan error? True inf error? False model? mmf4\n"
     ]
    },
    {
     "name": "stderr",
     "output_type": "stream",
     "text": [
      " 61%|██████    | 3736/6155 [02:01<01:18, 30.71it/s]"
     ]
    },
    {
     "name": "stdout",
     "output_type": "stream",
     "text": [
      "fit failed, nan error? True inf error? False model? mmf4\n"
     ]
    },
    {
     "name": "stderr",
     "output_type": "stream",
     "text": [
      " 61%|██████    | 3766/6155 [02:02<01:17, 30.71it/s]"
     ]
    },
    {
     "name": "stdout",
     "output_type": "stream",
     "text": [
      "fit failed, nan error? True inf error? False model? mmf4\n"
     ]
    },
    {
     "name": "stderr",
     "output_type": "stream",
     "text": [
      " 61%|██████▏   | 3781/6155 [02:03<01:17, 30.70it/s]"
     ]
    },
    {
     "name": "stdout",
     "output_type": "stream",
     "text": [
      "fit failed, nan error? True inf error? False model? mmf4\n"
     ]
    },
    {
     "name": "stderr",
     "output_type": "stream",
     "text": [
      " 62%|██████▏   | 3796/6155 [02:03<01:16, 30.71it/s]"
     ]
    },
    {
     "name": "stdout",
     "output_type": "stream",
     "text": [
      "fit failed, nan error? True inf error? False model? mmf4\n"
     ]
    },
    {
     "name": "stderr",
     "output_type": "stream",
     "text": [
      " 63%|██████▎   | 3866/6155 [02:05<01:14, 30.78it/s]"
     ]
    },
    {
     "name": "stdout",
     "output_type": "stream",
     "text": [
      "fit failed, nan error? True inf error? False model? mmf4\n"
     ]
    },
    {
     "name": "stderr",
     "output_type": "stream",
     "text": [
      " 66%|██████▋   | 4081/6155 [02:12<01:07, 30.83it/s]"
     ]
    },
    {
     "name": "stdout",
     "output_type": "stream",
     "text": [
      "fit failed, nan error? True inf error? False model? mmf4\n"
     ]
    },
    {
     "name": "stderr",
     "output_type": "stream",
     "text": [
      " 67%|██████▋   | 4106/6155 [02:13<01:06, 30.81it/s]"
     ]
    },
    {
     "name": "stdout",
     "output_type": "stream",
     "text": [
      "fit failed, nan error? True inf error? False model? mmf4\n"
     ]
    },
    {
     "name": "stderr",
     "output_type": "stream",
     "text": [
      " 70%|██████▉   | 4286/6155 [02:19<01:00, 30.83it/s]"
     ]
    },
    {
     "name": "stdout",
     "output_type": "stream",
     "text": [
      "fit failed, nan error? True inf error? False model? mmf4\n"
     ]
    },
    {
     "name": "stderr",
     "output_type": "stream",
     "text": [
      " 71%|███████   | 4351/6155 [02:20<00:58, 30.87it/s]"
     ]
    },
    {
     "name": "stdout",
     "output_type": "stream",
     "text": [
      "fit failed, nan error? True inf error? False model? mmf4\n",
      "fit failed, nan error? True inf error? False model? mmf4\n"
     ]
    },
    {
     "name": "stderr",
     "output_type": "stream",
     "text": [
      " 72%|███████▏  | 4436/6155 [02:23<00:55, 30.94it/s]"
     ]
    },
    {
     "name": "stdout",
     "output_type": "stream",
     "text": [
      "fit failed, nan error? True inf error? False model? mmf4\n",
      "fit failed, nan error? True inf error? False model? mmf4\n"
     ]
    },
    {
     "name": "stderr",
     "output_type": "stream",
     "text": [
      " 75%|███████▌  | 4641/6155 [02:29<00:48, 30.98it/s]"
     ]
    },
    {
     "name": "stdout",
     "output_type": "stream",
     "text": [
      "fit failed, nan error? True inf error? False model? mmf4\n"
     ]
    },
    {
     "name": "stderr",
     "output_type": "stream",
     "text": [
      " 78%|███████▊  | 4801/6155 [02:33<00:43, 31.19it/s]"
     ]
    },
    {
     "name": "stdout",
     "output_type": "stream",
     "text": [
      "fit failed, nan error? True inf error? False model? mmf4\n"
     ]
    },
    {
     "name": "stderr",
     "output_type": "stream",
     "text": [
      " 78%|███████▊  | 4826/6155 [02:34<00:42, 31.22it/s]"
     ]
    },
    {
     "name": "stdout",
     "output_type": "stream",
     "text": [
      "fit failed, nan error? True inf error? False model? mmf4\n",
      "fit failed, nan error? True inf error? False model? mmf4\n"
     ]
    },
    {
     "name": "stderr",
     "output_type": "stream",
     "text": [
      " 79%|███████▉  | 4886/6155 [02:36<00:40, 31.30it/s]"
     ]
    },
    {
     "name": "stdout",
     "output_type": "stream",
     "text": [
      "fit failed, nan error? True inf error? False model? mmf4\n"
     ]
    },
    {
     "name": "stderr",
     "output_type": "stream",
     "text": [
      " 81%|████████  | 4971/6155 [02:38<00:37, 31.36it/s]"
     ]
    },
    {
     "name": "stdout",
     "output_type": "stream",
     "text": [
      "fit failed, nan error? True inf error? False model? mmf4\n"
     ]
    },
    {
     "name": "stderr",
     "output_type": "stream",
     "text": [
      " 81%|████████▏ | 5011/6155 [02:39<00:36, 31.42it/s]"
     ]
    },
    {
     "name": "stdout",
     "output_type": "stream",
     "text": [
      "fit failed, nan error? True inf error? False model? mmf4\n"
     ]
    },
    {
     "name": "stderr",
     "output_type": "stream",
     "text": [
      " 83%|████████▎ | 5081/6155 [02:41<00:34, 31.49it/s]"
     ]
    },
    {
     "name": "stdout",
     "output_type": "stream",
     "text": [
      "fit failed, nan error? True inf error? False model? mmf4\n",
      "fit failed, nan error? True inf error? False model? mmf4\n"
     ]
    },
    {
     "name": "stderr",
     "output_type": "stream",
     "text": [
      " 83%|████████▎ | 5111/6155 [02:42<00:33, 31.48it/s]"
     ]
    },
    {
     "name": "stdout",
     "output_type": "stream",
     "text": [
      "fit failed, nan error? True inf error? False model? mmf4\n"
     ]
    },
    {
     "name": "stderr",
     "output_type": "stream",
     "text": [
      " 84%|████████▎ | 5151/6155 [02:43<00:31, 31.45it/s]"
     ]
    },
    {
     "name": "stdout",
     "output_type": "stream",
     "text": [
      "fit failed, nan error? True inf error? False model? mmf4\n"
     ]
    },
    {
     "name": "stderr",
     "output_type": "stream",
     "text": [
      " 84%|████████▍ | 5186/6155 [02:44<00:30, 31.49it/s]"
     ]
    },
    {
     "name": "stdout",
     "output_type": "stream",
     "text": [
      "fit failed, nan error? True inf error? False model? mmf4\n"
     ]
    },
    {
     "name": "stderr",
     "output_type": "stream",
     "text": [
      " 85%|████████▍ | 5231/6155 [02:45<00:29, 31.55it/s]"
     ]
    },
    {
     "name": "stdout",
     "output_type": "stream",
     "text": [
      "fit failed, nan error? True inf error? False model? mmf4\n"
     ]
    },
    {
     "name": "stderr",
     "output_type": "stream",
     "text": [
      " 86%|████████▌ | 5286/6155 [02:47<00:27, 31.57it/s]"
     ]
    },
    {
     "name": "stdout",
     "output_type": "stream",
     "text": [
      "fit failed, nan error? True inf error? False model? mmf4\n",
      "fit failed, nan error? True inf error? False model? mmf4\n",
      "fit failed, nan error? True inf error? False model? mmf4\n"
     ]
    },
    {
     "name": "stderr",
     "output_type": "stream",
     "text": [
      " 87%|████████▋ | 5351/6155 [02:49<00:25, 31.60it/s]"
     ]
    },
    {
     "name": "stdout",
     "output_type": "stream",
     "text": [
      "fit failed, nan error? True inf error? False model? mmf4\n"
     ]
    },
    {
     "name": "stderr",
     "output_type": "stream",
     "text": [
      " 87%|████████▋ | 5376/6155 [02:50<00:24, 31.60it/s]"
     ]
    },
    {
     "name": "stdout",
     "output_type": "stream",
     "text": [
      "fit failed, nan error? True inf error? False model? mmf4\n"
     ]
    },
    {
     "name": "stderr",
     "output_type": "stream",
     "text": [
      " 89%|████████▉ | 5486/6155 [02:53<00:21, 31.69it/s]"
     ]
    },
    {
     "name": "stdout",
     "output_type": "stream",
     "text": [
      "fit failed, nan error? True inf error? False model? mmf4\n"
     ]
    },
    {
     "name": "stderr",
     "output_type": "stream",
     "text": [
      " 91%|█████████ | 5571/6155 [02:55<00:18, 31.78it/s]"
     ]
    },
    {
     "name": "stdout",
     "output_type": "stream",
     "text": [
      "fit failed, nan error? True inf error? False model? mmf4\n"
     ]
    },
    {
     "name": "stderr",
     "output_type": "stream",
     "text": [
      " 93%|█████████▎| 5731/6155 [03:00<00:13, 31.83it/s]"
     ]
    },
    {
     "name": "stdout",
     "output_type": "stream",
     "text": [
      "fit failed, nan error? True inf error? False model? mmf4\n"
     ]
    },
    {
     "name": "stderr",
     "output_type": "stream",
     "text": [
      " 93%|█████████▎| 5741/6155 [03:00<00:13, 31.84it/s]"
     ]
    },
    {
     "name": "stdout",
     "output_type": "stream",
     "text": [
      "fit failed, nan error? True inf error? False model? mmf4\n"
     ]
    },
    {
     "name": "stderr",
     "output_type": "stream",
     "text": [
      " 97%|█████████▋| 5946/6155 [03:06<00:06, 31.96it/s]"
     ]
    },
    {
     "name": "stdout",
     "output_type": "stream",
     "text": [
      "fit failed, nan error? True inf error? False model? mmf4\n"
     ]
    },
    {
     "name": "stderr",
     "output_type": "stream",
     "text": [
      " 97%|█████████▋| 5986/6155 [03:07<00:05, 31.99it/s]"
     ]
    },
    {
     "name": "stdout",
     "output_type": "stream",
     "text": [
      "fit failed, nan error? True inf error? False model? mmf4\n"
     ]
    },
    {
     "name": "stderr",
     "output_type": "stream",
     "text": [
      " 98%|█████████▊| 6026/6155 [03:08<00:04, 31.94it/s]"
     ]
    },
    {
     "name": "stdout",
     "output_type": "stream",
     "text": [
      "fit failed, nan error? True inf error? False model? mmf4\n"
     ]
    },
    {
     "name": "stderr",
     "output_type": "stream",
     "text": [
      " 99%|█████████▉| 6096/6155 [03:10<00:01, 31.95it/s]"
     ]
    },
    {
     "name": "stdout",
     "output_type": "stream",
     "text": [
      "fit failed, nan error? True inf error? False model? mmf4\n"
     ]
    },
    {
     "name": "stderr",
     "output_type": "stream",
     "text": [
      "100%|█████████▉| 6138/6155 [03:12<00:00, 31.91it/s]"
     ]
    },
    {
     "name": "stdout",
     "output_type": "stream",
     "text": [
      "fit failed, nan error? True inf error? False model? mmf4\n"
     ]
    },
    {
     "name": "stderr",
     "output_type": "stream",
     "text": [
      "100%|██████████| 6155/6155 [03:13<00:00, 31.85it/s]"
     ]
    },
    {
     "name": "stdout",
     "output_type": "stream",
     "text": [
      "Results:\n",
      "Model: pow4\n",
      "  Average MSE: 0.0074859046232745785\n",
      "  Fitting rate: 100.00% with 1231 successful fits in total 1231\n",
      "Model: mmf4\n",
      "  Average MSE: 0.005327899605015675\n",
      "  Fitting rate: 100.00% with 1231 successful fits in total 1231\n",
      "Model: wbl4\n",
      "  Average MSE: 0.008742958579354638\n",
      "  Fitting rate: 100.00% with 1231 successful fits in total 1231\n",
      "Model: exp4\n",
      "  Average MSE: 0.012985658756851223\n",
      "  Fitting rate: 100.00% with 1231 successful fits in total 1231\n",
      "Model: last1\n",
      "  Average MSE: 0.0026743451329384674\n",
      "  Fitting rate: 100.00% with 1231 successful fits in total 1231\n"
     ]
    },
    {
     "name": "stderr",
     "output_type": "stream",
     "text": [
      "\n"
     ]
    }
   ],
   "source": [
    "fitting_results, fit_stats = curves_models_fitting(df[\"learning_curve\"], model_group, extrapolate=True, input_mask=4)\n",
    "result_df = pd.DataFrame(fitting_results)\n",
    "\n",
    "print(\"Results:\")\n",
    "for model_name in model_group:\n",
    "    model_data = result_df[result_df['curve_model'] == model_name]\n",
    "    if len(model_data) > 0:\n",
    "        avg_mse = model_data[\"mse\"].mean()\n",
    "        success_rate = (fit_stats[model_name][\"successful_fits\"] / fit_stats[model_name][\"total_fits\"]) * 100\n",
    "        print(f\"Model: {model_name}\")\n",
    "        print(f\"  Average MSE: {avg_mse}\")\n",
    "        print(f\"  Fitting rate: {success_rate:.2f}% with {fit_stats[model_name]['successful_fits']} successful fits in total {fit_stats[model_name]['total_fits']}\")\n"
   ]
  }
 ],
 "metadata": {
  "kernelspec": {
   "display_name": "lcdb2",
   "language": "python",
   "name": "python3"
  },
  "language_info": {
   "codemirror_mode": {
    "name": "ipython",
    "version": 3
   },
   "file_extension": ".py",
   "mimetype": "text/x-python",
   "name": "python",
   "nbconvert_exporter": "python",
   "pygments_lexer": "ipython3",
   "version": "3.11.9"
  }
 },
 "nbformat": 4,
 "nbformat_minor": 2
}
